{
 "cells": [
  {
   "cell_type": "markdown",
   "id": "052fe7ef",
   "metadata": {},
   "source": [
    "#### 1. Who developed Python Programming Language?\n",
    "Guido van Rossum developed the Python programming language."
   ]
  },
  {
   "cell_type": "markdown",
   "id": "142d4c76",
   "metadata": {},
   "source": [
    "#### 2. Which type of Programming does Python support?\n",
    "Python supports OOPs and functional programming."
   ]
  },
  {
   "cell_type": "markdown",
   "id": "4712a81c",
   "metadata": {},
   "source": [
    "#### 3. Is Python case sensitive when dealing with identifiers? \n",
    "Yes, Python is case sensitive when dealing with identifiers."
   ]
  },
  {
   "cell_type": "markdown",
   "id": "82765a85",
   "metadata": {},
   "source": [
    "#### 4. What is the correct extension of the Python file?\n",
    "Extension of a Python file is \".py\"."
   ]
  },
  {
   "cell_type": "markdown",
   "id": "b9e961a9",
   "metadata": {},
   "source": [
    "#### 5. Is Python code compiled or interpreted? \n",
    "Python code is interpreted."
   ]
  },
  {
   "cell_type": "markdown",
   "id": "628a3a96",
   "metadata": {},
   "source": [
    "#### 6. Name a few blocks of code used to define in Python language?\n",
    "Functions, classes, and loops."
   ]
  },
  {
   "cell_type": "markdown",
   "id": "8231ca1c",
   "metadata": {},
   "source": [
    "#### 7. State a character used to give single-line comments in Python?\n",
    "\"#\" is used to give single-line comments in Python."
   ]
  },
  {
   "cell_type": "markdown",
   "id": "eb03171c",
   "metadata": {},
   "source": [
    "#### 8. Mention functions which can help us to find the version of python that we are currently working on?\n",
    "The \"sys\" module's \"version\" attribute and the \"platform\" module's \"python_version\" function can be used to find the version of Python."
   ]
  },
  {
   "cell_type": "markdown",
   "id": "d4608728",
   "metadata": {},
   "source": [
    "#### 9. Python supports the creation of anonymous functions at runtime, using a construct called---\n",
    "\n",
    "lambda functions"
   ]
  },
  {
   "cell_type": "markdown",
   "id": "4aa48a50",
   "metadata": {},
   "source": [
    "#### 10. What does pip stand for python?\n",
    "PIP stands for \"Pip Installs Packages\"."
   ]
  },
  {
   "cell_type": "markdown",
   "id": "ffdd8487",
   "metadata": {},
   "source": [
    "#### 11. Mention a few built-in functions in python?\n",
    "print(), len(), type(), int(), str(), list(), dict(), min(), max(), etc.\n"
   ]
  },
  {
   "cell_type": "markdown",
   "id": "8739c354",
   "metadata": {},
   "source": [
    "#### 12. What is the maximum possible length of an identifier in Python?\n",
    "The maximum possible length of an identifier in Python is unlimited."
   ]
  },
  {
   "cell_type": "markdown",
   "id": "dfd61016",
   "metadata": {},
   "source": [
    "#### 13. What are the benefits of using Python?\n",
    "* Python is an-  \n",
    "> * interpreted, \n",
    "> * object-oriented, \n",
    "> * high-level programming language with dynamic semantics. \n",
    "* It has the following features that makes it very attractive for Rapid Application Development, as well as for use as a scripting or glue language to connect existing components together - \n",
    "> * high-level built in data structures, \n",
    "> * dynamic typing\n",
    "> * dynamic binding\n",
    "* Python's simple, easy to learn syntax emphasizes on code readability with the use of whitespaces and therefore reduces the cost of program maintenance.\n",
    "* Python supports modules and packages, which encourages program modularity and code reuse. \n",
    "* The Python interpreter and the extensive standard library are available in source or binary form without charge for all major platforms, and can be freely distributed.\n",
    "* Python is a great general-purpose programming language on its own, but with the help of a few popular libraries (numpy, scipy, matplotlib) it becomes a powerful environment for scientific computing."
   ]
  },
  {
   "cell_type": "markdown",
   "id": "143a3ff8",
   "metadata": {},
   "source": [
    "#### 14. How is memory managed in Python?\n",
    "Memory in Python is managed by the Python memory manager and is automatically handled by the interpreter."
   ]
  },
  {
   "cell_type": "markdown",
   "id": "76fdfee4",
   "metadata": {},
   "source": [
    "#### 15. How to install Python on Windows and set path variables?\n",
    "Steps to install Python on Windows and set path variables: download the Python installer from the official website, run the installer, and add the Python installation directory to the Windows PATH environment variable."
   ]
  }
 ],
 "metadata": {
  "kernelspec": {
   "display_name": "Python 3 (ipykernel)",
   "language": "python",
   "name": "python3"
  },
  "language_info": {
   "codemirror_mode": {
    "name": "ipython",
    "version": 3
   },
   "file_extension": ".py",
   "mimetype": "text/x-python",
   "name": "python",
   "nbconvert_exporter": "python",
   "pygments_lexer": "ipython3",
   "version": "3.9.13"
  }
 },
 "nbformat": 4,
 "nbformat_minor": 5
}
