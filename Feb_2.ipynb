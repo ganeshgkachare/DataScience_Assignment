{
 "cells": [
  {
   "cell_type": "markdown",
   "id": "a432bba7",
   "metadata": {},
   "source": [
    "## Q1. What are the characteristics of the tuples? Is tuple immutable?\n",
    "\n",
    "* Tuples are ordered, immutable, and can contain elements of different data types.\n",
    "* Yes, Tuple is immutable.\n",
    "\n"
   ]
  },
  {
   "cell_type": "code",
   "execution_count": 6,
   "id": "386271d4",
   "metadata": {},
   "outputs": [
    {
     "ename": "TypeError",
     "evalue": "'tuple' object does not support item assignment",
     "output_type": "error",
     "traceback": [
      "\u001b[1;31m---------------------------------------------------------------------------\u001b[0m",
      "\u001b[1;31mTypeError\u001b[0m                                 Traceback (most recent call last)",
      "\u001b[1;32m~\\AppData\\Local\\Temp\\ipykernel_8112\\3938818182.py\u001b[0m in \u001b[0;36m<module>\u001b[1;34m\u001b[0m\n\u001b[0;32m      1\u001b[0m \u001b[0mtup\u001b[0m \u001b[1;33m=\u001b[0m \u001b[1;33m(\u001b[0m\u001b[1;36m2\u001b[0m\u001b[1;33m,\u001b[0m\u001b[1;36m3\u001b[0m\u001b[1;33m,\u001b[0m\u001b[1;36m3\u001b[0m\u001b[1;33m,\u001b[0m\u001b[1;36m4\u001b[0m\u001b[1;33m,\u001b[0m\u001b[1;36m2\u001b[0m\u001b[1;33m,\u001b[0m\u001b[1;36m2\u001b[0m\u001b[1;33m)\u001b[0m\u001b[1;33m\u001b[0m\u001b[1;33m\u001b[0m\u001b[0m\n\u001b[1;32m----> 2\u001b[1;33m \u001b[0mtup\u001b[0m\u001b[1;33m[\u001b[0m\u001b[1;36m1\u001b[0m\u001b[1;33m]\u001b[0m\u001b[1;33m=\u001b[0m\u001b[1;36m5\u001b[0m  \u001b[1;31m#TypeError: 'tuple' object does not support item assignment i.e Tuple is immutable.\u001b[0m\u001b[1;33m\u001b[0m\u001b[1;33m\u001b[0m\u001b[0m\n\u001b[0m",
      "\u001b[1;31mTypeError\u001b[0m: 'tuple' object does not support item assignment"
     ]
    }
   ],
   "source": [
    "tup = (2,3,3,4,2,2)\n",
    "tup[1]=5  #TypeError: 'tuple' object does not support item assignment i.e Tuple is immutable."
   ]
  },
  {
   "cell_type": "markdown",
   "id": "48eed89c",
   "metadata": {},
   "source": [
    "## Q2. What are the two tuple methods in python? Give an example of each method. Give a reason why tuples have only two in-built methods as compared to Lists.\n",
    "\n",
    "The two tuple methods in Python are count and index. count returns the number of times \n",
    "an element appears in a tuple and index returns the first index of the element in the tuple.\n",
    "Tuples have only two methods because they are meant to be simple, immutable data structures \n",
    "and their purpose is to store ordered data."
   ]
  },
  {
   "cell_type": "code",
   "execution_count": 7,
   "id": "8056a195",
   "metadata": {},
   "outputs": [
    {
     "data": {
      "text/plain": [
       "3"
      ]
     },
     "execution_count": 7,
     "metadata": {},
     "output_type": "execute_result"
    }
   ],
   "source": [
    "tup.count(2)"
   ]
  },
  {
   "cell_type": "code",
   "execution_count": 9,
   "id": "a4ecead8",
   "metadata": {},
   "outputs": [
    {
     "data": {
      "text/plain": [
       "0"
      ]
     },
     "execution_count": 9,
     "metadata": {},
     "output_type": "execute_result"
    }
   ],
   "source": [
    "tup.index(2)"
   ]
  },
  {
   "cell_type": "markdown",
   "id": "136cf826",
   "metadata": {},
   "source": [
    "## Q3. Which collection datatypes in python do not allow duplicate items? Write a code using a set to remove duplicates from the given list.\n",
    "#### List = [1,1,1,2,1,3,1,4,2,1, 2, 2, 2, 3, 2, 4, 3, 1, 3, 2, 3, 3, 3, 4, 4, 1, 4, 2,4,3,4,4]\n",
    "* The collection data type in Python that does not allow duplicates is a set. \n",
    "* To remove duplicates from a list, you can use the set function. i.e typecasting"
   ]
  },
  {
   "cell_type": "code",
   "execution_count": 11,
   "id": "2987b8b9",
   "metadata": {},
   "outputs": [
    {
     "data": {
      "text/plain": [
       "[1, 2, 3, 4]"
      ]
     },
     "execution_count": 11,
     "metadata": {},
     "output_type": "execute_result"
    }
   ],
   "source": [
    "List = [1,1,1,2,1,3,1,4,2,1, 2, 2, 2, 3, 2, 4, 3, 1, 3, 2, 3, 3, 3, 4, 4, 1, 4, 2,4,3,4,4]\n",
    "remove_duplicates = list(set(List))\n",
    "remove_duplicates"
   ]
  },
  {
   "cell_type": "markdown",
   "id": "7eee3a7b",
   "metadata": {},
   "source": [
    "## Q4. Explain the difference between the union() and update() methods for a set. Give an example of each method. \n",
    "* The union() method returns a set that contains all the unique elements from both sets.\n",
    "* The update() method adds all the elements from one set to another."
   ]
  },
  {
   "cell_type": "code",
   "execution_count": 12,
   "id": "a9359973",
   "metadata": {},
   "outputs": [
    {
     "name": "stdout",
     "output_type": "stream",
     "text": [
      "{1, 2, 3, 4, 5, 6, 7, 8, 9}\n",
      "{1, 2, 3, 4, 5, 6, 7, 8, 9}\n"
     ]
    }
   ],
   "source": [
    "set1 = {1, 2, 3, 4, 5}\n",
    "set2 = {3, 4, 5, 6, 7, 8, 9}\n",
    "\n",
    "# union\n",
    "print(set1.union(set2)) \n",
    "\n",
    "# update\n",
    "set1.update(set2)\n",
    "print(set1) "
   ]
  },
  {
   "cell_type": "markdown",
   "id": "d204d325",
   "metadata": {},
   "source": [
    "## Q5. What is a dictionary? Give an example. Also, state whether a dictionary is ordered or unordered.\n",
    "* A dictionary is a collection of key-value pairs, where keys are unique and values can be any data type.\n",
    "* A dictionary is unordered."
   ]
  },
  {
   "cell_type": "code",
   "execution_count": 13,
   "id": "6a93e7f3",
   "metadata": {},
   "outputs": [
    {
     "data": {
      "text/plain": [
       "{'name': 'Ganesh', 'last_name': 'Kachare', 'age': 23, 'city': 'Pune'}"
      ]
     },
     "execution_count": 13,
     "metadata": {},
     "output_type": "execute_result"
    }
   ],
   "source": [
    "# e.g\n",
    "Myself = {'name': 'Ganesh', 'last_name' : 'Kachare', 'age': 23, 'city': 'Pune'}\n",
    "Myself"
   ]
  },
  {
   "cell_type": "markdown",
   "id": "1d6b4453",
   "metadata": {},
   "source": [
    "## Q6. Can we create a nested dictionary? If so, please give an example by creating a simple one-level nested dictionary.\n",
    "* Yes, We can create a nested dictionary."
   ]
  },
  {
   "cell_type": "code",
   "execution_count": 14,
   "id": "1351ec8c",
   "metadata": {},
   "outputs": [
    {
     "data": {
      "text/plain": [
       "{'name': 'Ganesh',\n",
       " 'last_name': 'Kachare',\n",
       " 'age': 23,\n",
       " 'city': {'current_city': 'Pune', 'permanent_city': 'Pune'}}"
      ]
     },
     "execution_count": 14,
     "metadata": {},
     "output_type": "execute_result"
    }
   ],
   "source": [
    "# e.g\n",
    "nested_dict = {'name': 'Ganesh', 'last_name' : 'Kachare', 'age': 23, 'city': {'current_city': 'Pune','permanent_city': 'Pune'}}\n",
    "nested_dict"
   ]
  },
  {
   "cell_type": "markdown",
   "id": "a5655c14",
   "metadata": {},
   "source": [
    "## Q7. Using setdefault() method, create key named topics in the given dictionary and also add the value of the key as this list [Python, Machine Learning', 'Deep Learning] dict1= {'language': 'Python', 'course': 'Data Science Masters'}\n",
    "\n",
    "* If the key does not exist,The setdefault() method  insert the key, with the specified value"
   ]
  },
  {
   "cell_type": "code",
   "execution_count": 18,
   "id": "9f1b65a9",
   "metadata": {},
   "outputs": [
    {
     "name": "stdout",
     "output_type": "stream",
     "text": [
      "{'language': 'Python', 'course': 'Data Science Masters', 'topics': ['Python', 'Machine Learning', 'Deep Learning']}\n"
     ]
    }
   ],
   "source": [
    "topics = ['Python', 'Machine Learning', 'Deep Learning']\n",
    "dict1 = {'language': 'Python', 'course': 'Data Science Masters'}\n",
    "dict1.setdefault('topics', topics)\n",
    "print(dict1) # {'language': 'Python', 'course': 'Data Science Masters', 'topics': ['Python', 'Machine Learning', 'Deep Learning']}"
   ]
  },
  {
   "cell_type": "markdown",
   "id": "c00146cd",
   "metadata": {},
   "source": [
    "## Q8. What are the three view objects in dictionaries? Use the three in-built methods in python to display these three view objects for the given dictionary. dict1 = {'Sport': 'Cricket', 'Teams': ['India', 'Australia', 'England', 'South Africa', 'Sri Lanka', 'New Zealand']}\n",
    "* The three view objects in dictionaries are: keys(), values(), and items()."
   ]
  },
  {
   "cell_type": "code",
   "execution_count": 22,
   "id": "acddd6fc",
   "metadata": {},
   "outputs": [
    {
     "name": "stdout",
     "output_type": "stream",
     "text": [
      "dict_keys(['Sport', 'Teams'])\n",
      "dict_values(['Cricket', ['India', 'Australia', 'England', 'South Africa', 'Sri Lanka', 'New Zealand']])\n",
      "dict_items([('Sport', 'Cricket'), ('Teams', ['India', 'Australia', 'England', 'South Africa', 'Sri Lanka', 'New Zealand'])])\n"
     ]
    }
   ],
   "source": [
    "dict1 = {'Sport': 'Cricket', 'Teams': ['India', 'Australia', 'England', 'South Africa', 'Sri Lanka', 'New Zealand']}\n",
    "print(dict1.keys()) # ['Sport', 'Teams']\n",
    "print(dict1.values()) # ['Cricket', ['India', 'Australia', 'England', 'South Africa', 'Sri Lanka', 'New Zealand']]\n",
    "print(dict1.items()) # [('Sport', 'Cricket'), ('Teams', ['India', 'Australia', 'England', 'South Africa', 'Sri Lanka', 'New Zealand'])]"
   ]
  },
  {
   "cell_type": "code",
   "execution_count": null,
   "id": "be02c242",
   "metadata": {},
   "outputs": [],
   "source": []
  }
 ],
 "metadata": {
  "kernelspec": {
   "display_name": "Python 3 (ipykernel)",
   "language": "python",
   "name": "python3"
  },
  "language_info": {
   "codemirror_mode": {
    "name": "ipython",
    "version": 3
   },
   "file_extension": ".py",
   "mimetype": "text/x-python",
   "name": "python",
   "nbconvert_exporter": "python",
   "pygments_lexer": "ipython3",
   "version": "3.9.13"
  }
 },
 "nbformat": 4,
 "nbformat_minor": 5
}
