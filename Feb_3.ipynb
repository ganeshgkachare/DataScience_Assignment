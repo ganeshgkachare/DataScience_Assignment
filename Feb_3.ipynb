{
 "cells": [
  {
   "cell_type": "markdown",
   "id": "844037af",
   "metadata": {},
   "source": [
    "### Q1. Which keyword is used to create a function? Create a function to return a list of odd numbers in the range of 1 to 25.\n",
    "\n",
    "* \"def\" keyword is used to create a function."
   ]
  },
  {
   "cell_type": "code",
   "execution_count": 3,
   "id": "dcb19c4e",
   "metadata": {},
   "outputs": [
    {
     "data": {
      "text/plain": [
       "[1, 3, 5, 7, 9, 11, 13, 15, 17, 19, 21, 23, 25]"
      ]
     },
     "execution_count": 3,
     "metadata": {},
     "output_type": "execute_result"
    }
   ],
   "source": [
    "def odd_numbers():\n",
    "    odd_num = []\n",
    "    for i in range(1, 26):\n",
    "        if i % 2 != 0:\n",
    "            odd_num.append(i)\n",
    "    return odd_num\n",
    "\n",
    "odd_numbers()"
   ]
  },
  {
   "cell_type": "markdown",
   "id": "aaf78f30",
   "metadata": {},
   "source": [
    "### Q2. Why \"args and **kwargs is used in some functions? Create a function each for \"args and **kwargs to demonstrate their use.\n",
    "* The \"*args\" and \"**kwargs\" are used to allow a function to accept a flexible number of positional and keyword arguments."
   ]
  },
  {
   "cell_type": "code",
   "execution_count": 3,
   "id": "475f73c5",
   "metadata": {},
   "outputs": [
    {
     "name": "stdout",
     "output_type": "stream",
     "text": [
      "3.0\n",
      "name: John\n",
      "age: 32\n",
      "city: New York\n"
     ]
    }
   ],
   "source": [
    "# \"*args\" :\n",
    "    \n",
    "def avg(*args):\n",
    "    avg=sum(args)/len(args)\n",
    "    return avg\n",
    "print(avg(1,2,3,4,5))\n",
    "\n",
    "        \n",
    "# \"**kwargs\" :\n",
    "    \n",
    "def print_keyVal(**kwargs):\n",
    "    for key, value in kwargs.items():\n",
    "        print(f\"{key}: {value}\")\n",
    "\n",
    "print_keyVal(name=\"John\", age=32, city=\"New York\")\n"
   ]
  },
  {
   "cell_type": "markdown",
   "id": "b6839ff1",
   "metadata": {},
   "source": [
    "### Q3. What is an iterator in python? Name the method used to initialise the iterator object and the method used for iteration. Use these methods to print the first five elements of the given list [2, 4, 6, 8, 10, 12, 14, 16, 18,20].\n",
    "* An iterator in python is an object that can be iterated upon.\n",
    "* The method iter() is used to initialize an iterator object and the method next() is used for iteration."
   ]
  },
  {
   "cell_type": "code",
   "execution_count": 9,
   "id": "74a45323",
   "metadata": {},
   "outputs": [
    {
     "name": "stdout",
     "output_type": "stream",
     "text": [
      "2\n",
      "4\n",
      "6\n",
      "8\n",
      "10\n"
     ]
    }
   ],
   "source": [
    "numbers = [2, 4, 6, 8, 10, 12, 14, 16, 18, 20]\n",
    "it = iter(numbers)\n",
    "\n",
    "for i in range(5):\n",
    "    print(next(it))\n",
    "    \n"
   ]
  },
  {
   "cell_type": "markdown",
   "id": "b53ad1ac",
   "metadata": {},
   "source": [
    "### Q4. What is a generator function in python? Why yield keyword is used? Give an example of a generator function.\n",
    "* A generator function in python is a function that returns an iterator object instead of a value.\n",
    "* The yield keyword is used to yield values from the generator function one by one instead of returning all the values at once. "
   ]
  },
  {
   "cell_type": "code",
   "execution_count": 15,
   "id": "f2d22e8f",
   "metadata": {},
   "outputs": [
    {
     "name": "stdout",
     "output_type": "stream",
     "text": [
      "0\n",
      "1\n",
      "4\n",
      "9\n"
     ]
    }
   ],
   "source": [
    "def squares(n):\n",
    "    for i in range(n):\n",
    "        yield i**2\n",
    "\n",
    "sq = squares(4)\n",
    "for i in sq:\n",
    "    print(i)"
   ]
  },
  {
   "cell_type": "markdown",
   "id": "5cee5609",
   "metadata": {},
   "source": [
    "### Q5. Create a generator function for prime numbers less than 1000. Use the next() method to print the first 20 prime numbers.\n"
   ]
  },
  {
   "cell_type": "code",
   "execution_count": 19,
   "id": "6a020d2e",
   "metadata": {},
   "outputs": [
    {
     "name": "stdout",
     "output_type": "stream",
     "text": [
      "2\n",
      "3\n",
      "5\n",
      "7\n",
      "11\n",
      "13\n",
      "17\n",
      "19\n",
      "23\n",
      "29\n",
      "31\n",
      "37\n",
      "41\n",
      "43\n",
      "47\n",
      "53\n",
      "59\n",
      "61\n",
      "67\n",
      "71\n"
     ]
    }
   ],
   "source": [
    "def prime_numbers(n):\n",
    "    for num in range(2, n):\n",
    "        for i in range(2, num):\n",
    "            if (num % i) == 0:\n",
    "                break\n",
    "        else:\n",
    "            yield num\n",
    "\n",
    "prime_num = prime_numbers(1000)\n",
    "for i in range(20):\n",
    "    print(next(prime_num))"
   ]
  }
 ],
 "metadata": {
  "kernelspec": {
   "display_name": "Python 3 (ipykernel)",
   "language": "python",
   "name": "python3"
  },
  "language_info": {
   "codemirror_mode": {
    "name": "ipython",
    "version": 3
   },
   "file_extension": ".py",
   "mimetype": "text/x-python",
   "name": "python",
   "nbconvert_exporter": "python",
   "pygments_lexer": "ipython3",
   "version": "3.9.13"
  }
 },
 "nbformat": 4,
 "nbformat_minor": 5
}
